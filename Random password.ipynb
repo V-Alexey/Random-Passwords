{
 "cells": [
  {
   "cell_type": "code",
   "execution_count": 1,
   "id": "067bf470",
   "metadata": {},
   "outputs": [
    {
     "name": "stdout",
     "output_type": "stream",
     "text": [
      "How difficult you want your password to be? hard\n",
      "2mHY1Dt172\n"
     ]
    }
   ],
   "source": [
    "import random\n",
    "import string\n",
    "Dif = input(\"How difficult you want your password to be? \")\n",
    "NHa = random.randint(8,10)\n",
    "NMe = random.randint(4,7)\n",
    "NEa = random.randint(2,3)\n",
    "pasH = []\n",
    "pasM = []\n",
    "pasE = []\n",
    "if Dif == \"hard\":\n",
    "    for i in range(NHa//2):\n",
    "        randomLetter = random.choice(string.ascii_letters)\n",
    "        randomNumber = random.randint(0,9)\n",
    "        pasH.append(randomLetter)\n",
    "        pasH.append(randomNumber)\n",
    "    random.shuffle(pasH)\n",
    "    print(\"\".join(map(str, pasH)))\n",
    "if Dif == \"medium\":\n",
    "    for i in range(NMe//2):\n",
    "        randomLetter = random.choice(string.ascii_letters)\n",
    "        randomNumber = random.randint(0,9)\n",
    "        pasM.append(randomLetter)\n",
    "        pasM.append(randomNumber)\n",
    "    random.shuffle(pasM)   \n",
    "    print(\"\".join(map(str, pasM)))\n",
    "if Dif == \"easy\":\n",
    "    for i in range(NEa//2):\n",
    "        randomLetter = random.choice(string.ascii_letters)\n",
    "        randomNumber = random.randint(0,9)\n",
    "        pasE.append(randomLetter)\n",
    "        pasE.append(randomNumber)\n",
    "    random.shuffle(pasE)\n",
    "    print(\"\".join(map(str, pasE)))"
   ]
  }
 ],
 "metadata": {
  "kernelspec": {
   "display_name": "Python 3 (ipykernel)",
   "language": "python",
   "name": "python3"
  },
  "language_info": {
   "codemirror_mode": {
    "name": "ipython",
    "version": 3
   },
   "file_extension": ".py",
   "mimetype": "text/x-python",
   "name": "python",
   "nbconvert_exporter": "python",
   "pygments_lexer": "ipython3",
   "version": "3.9.12"
  }
 },
 "nbformat": 4,
 "nbformat_minor": 5
}
